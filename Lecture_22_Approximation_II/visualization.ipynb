{
 "cells": [
  {
   "cell_type": "code",
   "execution_count": 1,
   "metadata": {},
   "outputs": [],
   "source": [
    "import numpy as np\n",
    "import tensorflow.keras as keras\n",
    "import plotly\n",
    "import plotly.graph_objects as go\n",
    "from ipywidgets import widgets"
   ]
  },
  {
   "cell_type": "markdown",
   "metadata": {},
   "source": [
    "## Load pre-trained tensorflow model"
   ]
  },
  {
   "cell_type": "code",
   "execution_count": 2,
   "metadata": {},
   "outputs": [],
   "source": [
    "T=50\n",
    "sigma = 0.7\n",
    "beta = 0.9\n",
    "model = keras.models.load_model(\"11_26_03\", compile=False)  \n",
    "model.compile(loss=\"mse\")"
   ]
  },
  {
   "cell_type": "markdown",
   "metadata": {},
   "source": [
    "## Setup interactive plotting "
   ]
  },
  {
   "cell_type": "code",
   "execution_count": 3,
   "metadata": {},
   "outputs": [],
   "source": [
    "beta_slider = widgets.FloatSlider(\n",
    "    value=beta,\n",
    "    min=0.7,\n",
    "    max=0.99,\n",
    "    step=0.01,\n",
    "    description='beta:',\n",
    "    continuous_update=False\n",
    ")"
   ]
  },
  {
   "cell_type": "code",
   "execution_count": 4,
   "metadata": {},
   "outputs": [],
   "source": [
    "sigma_slider = widgets.FloatSlider(\n",
    "    value=sigma,\n",
    "    min=0.5,\n",
    "    max=1.5,\n",
    "    step=0.05,\n",
    "    description='sigma:',\n",
    "    continuous_update=False\n",
    ")"
   ]
  },
  {
   "cell_type": "code",
   "execution_count": 9,
   "metadata": {},
   "outputs": [],
   "source": [
    "# \"predict\" consumption and savings for initial value pair\n",
    "prediction = model.predict(np.array([sigma,  beta]).reshape(1, 2))\n",
    "trace1 = go.Scatter(x=np.arange(T), y=prediction[0, :T], mode='markers', name=\"consumption\")\n",
    "trace2 = go.Scatter(x=np.arange(T+1), y=prediction[0, T:2*T+1], mode='markers', name=\"savings\")"
   ]
  },
  {
   "cell_type": "code",
   "execution_count": 10,
   "metadata": {},
   "outputs": [],
   "source": [
    "# define response on changes of beta and sigma\n",
    "def response(change):\n",
    "    beta = beta_slider.value\n",
    "    sigma = sigma_slider.value\n",
    "    with g.batch_update():\n",
    "        prediction = model.predict(np.array([sigma,  beta]).reshape(1, 2))\n",
    "        g.data[0].y = prediction[0, :T]\n",
    "        g.data[1].y = prediction[0, T:2*T+1]\n",
    "\n",
    "sigma_slider.observe(response, names=\"value\")\n",
    "beta_slider.observe(response, names=\"value\")"
   ]
  },
  {
   "cell_type": "code",
   "execution_count": 11,
   "metadata": {},
   "outputs": [
    {
     "data": {
      "application/vnd.jupyter.widget-view+json": {
       "model_id": "b08efe207a5c48598de5ac357a6fa317",
       "version_major": 2,
       "version_minor": 0
      },
      "text/plain": [
       "VBox(children=(HBox(children=(FloatSlider(value=0.99, continuous_update=False, description='beta:', max=0.99, …"
      ]
     },
     "metadata": {},
     "output_type": "display_data"
    }
   ],
   "source": [
    "g = go.FigureWidget(data=[trace1, trace2],\n",
    "                    layout=go.Layout(\n",
    "                        title=dict(\n",
    "                            text='Life-Cycle Consumption-Savings Example'\n",
    "                        ),\n",
    "                        barmode='overlay',\n",
    "                        showlegend=True\n",
    "                    ))\n",
    "container = widgets.HBox(children=[beta_slider, sigma_slider]) \n",
    "widgets.VBox([container, g])"
   ]
  },
  {
   "cell_type": "code",
   "execution_count": null,
   "metadata": {},
   "outputs": [],
   "source": []
  },
  {
   "cell_type": "code",
   "execution_count": null,
   "metadata": {},
   "outputs": [],
   "source": []
  }
 ],
 "metadata": {
  "kernelspec": {
   "display_name": "Python 3",
   "language": "python",
   "name": "python3"
  },
  "language_info": {
   "codemirror_mode": {
    "name": "ipython",
    "version": 3
   },
   "file_extension": ".py",
   "mimetype": "text/x-python",
   "name": "python",
   "nbconvert_exporter": "python",
   "pygments_lexer": "ipython3",
   "version": "3.7.6"
  }
 },
 "nbformat": 4,
 "nbformat_minor": 4
}
