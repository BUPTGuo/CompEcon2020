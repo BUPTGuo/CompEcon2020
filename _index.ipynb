{
 "cells": [
  {
   "cell_type": "markdown",
   "metadata": {},
   "source": [
    "# Python Examples\n",
    "\n",
    "| &nbsp;&nbsp;&nbsp;&nbsp;Date&nbsp;&nbsp;&nbsp;&nbsp; | &nbsp;&nbsp;&nbsp;&nbsp;Topic&nbsp;&nbsp;&nbsp;&nbsp; |  &nbsp;&nbsp;&nbsp;&nbsp; Python Examples &nbsp;&nbsp;&nbsp;&nbsp; |\n",
    "|------|-----|---|\n",
    "| Feb. 18 | [Introduction](https://github.com/KennethJudd/CompEcon2020/tree/master/Lecture_01_Introduction) | |\n",
    "| Feb. 20 | [Computer arithmetic](https://github.com/KennethJudd/CompEcon2020/tree/master/Lecture_02_Computer_arithmetic)  | |\n",
    "| Feb. 25 |  [Linear algebra and equations](https://github.com/KennethJudd/CompEcon2020/tree/master/Lecture_03_Linear_algebra_and_equations) | |\n",
    "| Feb. 27 | [Unconstrained optimization](https://github.com/KennethJudd/CompEcon2020/tree/master/Lecture_04_Unconstrained_optimization)  | [Life Cycle](Lecture_04_Unconstrained_optimization/exercises/life_cycle/python/life_cycle.ipynb),  [Maximum Likelihood](Lecture_04_Unconstrained_optimization/exercises/maximum_likelihood/sample_solutions/python/CA_house_LL.ipynb) |\n",
    "| March 3 | [Nonlinear equations](https://github.com/KennethJudd/CompEcon2020/tree/master/Lecture_05_Nonlinear_equations)  | |\n",
    "| March 5 | [Constrained optimization: theory and methods](https://github.com/KennethJudd/CompEcon2020/tree/master/Lecture_06_Constrained_optimization_theory_and_methods/README.md)  | |\n",
    "| March 10 | [Constrained optimization: applications](https://github.com/KennethJudd/CompEcon2020/tree/master/Lecture_07_Constrained_optimization_applications) | | \n",
    "| March 12 | [Structural estimation I](https://github.com/KennethJudd/CompEcon2020/tree/master/Lecture_08_Structural_estimation_I) | | \n",
    "| March 17 | [Finite-difference ODEs](https://github.com/KennethJudd/CompEcon2020/tree/master/Lecture_09_Finite-difference_ODEs) | |\n",
    "| March 19 | [Version control using Git](https://github.com/KennethJudd/CompEcon2020/tree/master/Lecture_10_Version_control_using_Git) | |\n",
    "| March 24 | [Automatic Differentiation](https://github.com/KennethJudd/CompEcon2020/tree/master/Lecture_11_Automatic_Differentiation) || \n",
    "| March 26 | [Homotopy](https://github.com/KennethJudd/CompEcon2020/tree/master/Lecture_12_Homotopy) | | \n",
    "| March 30 | [Numerical quadrature, MC, qMC](https://github.com/KennethJudd/CompEcon2020/tree/master/Lecture_13_Numerical_quadrature_MC_qMC) | | \n",
    "| April 2 | [Approximation I](https://github.com/KennethJudd/CompEcon2020/tree/master/Lecture_14_Approximation_I) | |\n",
    "| April 7 | [Dynamic optimization, equilibrium, NLCEQ](https://github.com/KennethJudd/CompEcon2020/tree/master/Lecture_15_Dynamic_optimization_equilibrium_NLCEQ) | |\n",
    "| April 9, 14, and 16 | No lectures. Easter break. | | |\n",
    "| April 21 | [Dynamic programming - discrete state](https://github.com/KennethJudd/CompEcon2020/tree/master/Lecture_16_Dynamic_programming-discrete_state) | |\n",
    "| April 23 | [Structural estimation II](https://github.com/KennethJudd/CompEcon2020/tree/master/Lecture_17_Structural_estimation_II) | |\n",
    "| April 28 | [Dynamic programming - continuous state](https://github.com/KennethJudd/CompEcon2020/tree/master/Lecture_18_Dynamic_programming-continuous_state) | | \n",
    "| April 30 | [Projection methods I](https://github.com/KennethJudd/CompEcon2020/tree/master/Lecture_19_Projection_methods_I) | |\n",
    "| May 5 | [Projection methods II](https://github.com/KennethJudd/CompEcon2020/tree/master/Lecture_20_Projection_methods_II) | |\n",
    "| May 7 | [Perturbation methods](https://github.com/KennethJudd/CompEcon2020/tree/master/Lecture_21_Perturbation_methods) | |\n",
    "| May 12 | [Approximation II](https://github.com/KennethJudd/CompEcon2020/tree/master/Lecture_22_Approximation_II) | [Life-Cycle example](Lecture_22_Approximation_II/visualization.ipynb) |\n",
    "| May 14 | [DSGE, NK models](https://github.com/KennethJudd/CompEcon2020/tree/master/Lecture_23_DSGE_NK_models) | | |\n",
    "| May 19 | [Structural estimation III](https://github.com/KennethJudd/CompEcon2020/tree/master/Lecture_24_Structural_estimation_III) | |\n",
    "| May 20 | [Dynamic games](https://github.com/KennethJudd/CompEcon2020/tree/master/Lecture_25_Dynamic_games) | | \n",
    "| May 26 | [Polynomials](https://github.com/KennethJudd/CompEcon2020/tree/master/Lecture_26_Polynomials) | | \n",
    "| May 28 | [Concluding remarks](https://github.com/KennethJudd/CompEcon2020/tree/master/Lecture_27_Concluding_remarks) | |\n"
   ]
  }
 ],
 "metadata": {
  "kernelspec": {
   "display_name": "Python 3",
   "language": "python",
   "name": "python3"
  },
  "language_info": {
   "codemirror_mode": {
    "name": "ipython",
    "version": 3
   },
   "file_extension": ".py",
   "mimetype": "text/x-python",
   "name": "python",
   "nbconvert_exporter": "python",
   "pygments_lexer": "ipython3",
   "version": "3.7.4"
  }
 },
 "nbformat": 4,
 "nbformat_minor": 4
}